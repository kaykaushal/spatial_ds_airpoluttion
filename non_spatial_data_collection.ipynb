{
  "nbformat": 4,
  "nbformat_minor": 0,
  "metadata": {
    "colab": {
      "name": "Nasa_Airathon_NO2_Data_Collection.ipynb",
      "provenance": [],
      "authorship_tag": "ABX9TyNe4n1Ox9DF8XtnxCNotR1c",
      "include_colab_link": true
    },
    "kernelspec": {
      "name": "python3",
      "display_name": "Python 3"
    },
    "language_info": {
      "name": "python"
    }
  },
  "cells": [
    {
      "cell_type": "markdown",
      "metadata": {
        "id": "view-in-github",
        "colab_type": "text"
      },
      "source": [
        "<a href=\"https://colab.research.google.com/github/kaykaushal/spatial_ds_airpoluttion/blob/main/non_spatial_data_collection.ipynb\" target=\"_parent\"><img src=\"https://colab.research.google.com/assets/colab-badge.svg\" alt=\"Open In Colab\"/></a>"
      ]
    },
    {
      "cell_type": "markdown",
      "source": [
        "# NASA Air Quality Challenge: NO2 Prediction"
      ],
      "metadata": {
        "id": "wKVkWGFmAnfS"
      }
    },
    {
      "cell_type": "markdown",
      "source": [
        "## Data Collection"
      ],
      "metadata": {
        "id": "SQqZD8QSHn8L"
      }
    },
    {
      "cell_type": "markdown",
      "source": [
        "### Binary Files Load"
      ],
      "metadata": {
        "id": "h4JOFLJLMxDZ"
      }
    },
    {
      "cell_type": "code",
      "source": [
        "from google.colab import drive\n",
        "drive.mount('/content/drive')"
      ],
      "metadata": {
        "id": "PiXuErhJApR2",
        "colab": {
          "base_uri": "https://localhost:8080/"
        },
        "outputId": "59e6d954-fcc6-49af-9558-65103cc35a52"
      },
      "execution_count": 1,
      "outputs": [
        {
          "output_type": "stream",
          "name": "stdout",
          "text": [
            "Mounted at /content/drive\n"
          ]
        }
      ]
    },
    {
      "cell_type": "code",
      "source": [
        "from pathlib import Path\n",
        "import random\n",
        "from typing import Dict, List, Union\n",
        "\n",
        "from cloudpathlib import S3Path, S3Client\n",
        "import geopandas as gpd\n",
        "import pandas as pd"
      ],
      "metadata": {
        "id": "wqwKdhAeHq1k"
      },
      "execution_count": null,
      "outputs": []
    },
    {
      "cell_type": "code",
      "source": [
        "!pip install geopandas #cloudpathlib #,"
      ],
      "metadata": {
        "id": "LuI3R0x0Hyot",
        "colab": {
          "base_uri": "https://localhost:8080/"
        },
        "outputId": "842a65d4-dde7-44f8-9721-e71cecd6e0a7"
      },
      "execution_count": null,
      "outputs": [
        {
          "output_type": "stream",
          "name": "stdout",
          "text": [
            "Collecting geopandas\n",
            "  Downloading geopandas-0.10.2-py2.py3-none-any.whl (1.0 MB)\n",
            "\u001b[K     |████████████████████████████████| 1.0 MB 5.6 MB/s \n",
            "\u001b[?25hRequirement already satisfied: pandas>=0.25.0 in /usr/local/lib/python3.7/dist-packages (from geopandas) (1.3.5)\n",
            "Collecting pyproj>=2.2.0\n",
            "  Downloading pyproj-3.2.1-cp37-cp37m-manylinux2010_x86_64.whl (6.3 MB)\n",
            "\u001b[K     |████████████████████████████████| 6.3 MB 33.7 MB/s \n",
            "\u001b[?25hRequirement already satisfied: shapely>=1.6 in /usr/local/lib/python3.7/dist-packages (from geopandas) (1.8.1.post1)\n",
            "Collecting fiona>=1.8\n",
            "  Downloading Fiona-1.8.21-cp37-cp37m-manylinux2014_x86_64.whl (16.7 MB)\n",
            "\u001b[K     |████████████████████████████████| 16.7 MB 251 kB/s \n",
            "\u001b[?25hCollecting cligj>=0.5\n",
            "  Downloading cligj-0.7.2-py3-none-any.whl (7.1 kB)\n",
            "Requirement already satisfied: certifi in /usr/local/lib/python3.7/dist-packages (from fiona>=1.8->geopandas) (2021.10.8)\n",
            "Collecting munch\n",
            "  Downloading munch-2.5.0-py2.py3-none-any.whl (10 kB)\n",
            "Requirement already satisfied: setuptools in /usr/local/lib/python3.7/dist-packages (from fiona>=1.8->geopandas) (57.4.0)\n",
            "Collecting click-plugins>=1.0\n",
            "  Downloading click_plugins-1.1.1-py2.py3-none-any.whl (7.5 kB)\n",
            "Requirement already satisfied: attrs>=17 in /usr/local/lib/python3.7/dist-packages (from fiona>=1.8->geopandas) (21.4.0)\n",
            "Requirement already satisfied: click>=4.0 in /usr/local/lib/python3.7/dist-packages (from fiona>=1.8->geopandas) (7.1.2)\n",
            "Requirement already satisfied: six>=1.7 in /usr/local/lib/python3.7/dist-packages (from fiona>=1.8->geopandas) (1.15.0)\n",
            "Requirement already satisfied: python-dateutil>=2.7.3 in /usr/local/lib/python3.7/dist-packages (from pandas>=0.25.0->geopandas) (2.8.2)\n",
            "Requirement already satisfied: numpy>=1.17.3 in /usr/local/lib/python3.7/dist-packages (from pandas>=0.25.0->geopandas) (1.21.5)\n",
            "Requirement already satisfied: pytz>=2017.3 in /usr/local/lib/python3.7/dist-packages (from pandas>=0.25.0->geopandas) (2018.9)\n",
            "Installing collected packages: munch, cligj, click-plugins, pyproj, fiona, geopandas\n",
            "Successfully installed click-plugins-1.1.1 cligj-0.7.2 fiona-1.8.21 geopandas-0.10.2 munch-2.5.0 pyproj-3.2.1\n"
          ]
        }
      ]
    },
    {
      "cell_type": "code",
      "source": [
        "# Training data with geo location \n",
        "train_df = pd.read_csv('/content/drive/MyDrive/Driven_Data/NASA-NO2/Data/location_train_data.csv', index_col=0)\n",
        "train_df.info()"
      ],
      "metadata": {
        "colab": {
          "base_uri": "https://localhost:8080/"
        },
        "id": "8cZ6TibXH5F-",
        "outputId": "88fe4610-6401-4184-f8c5-54d426b3152a"
      },
      "execution_count": null,
      "outputs": [
        {
          "output_type": "stream",
          "name": "stdout",
          "text": [
            "<class 'pandas.core.frame.DataFrame'>\n",
            "Int64Index: 36131 entries, 0 to 36130\n",
            "Data columns (total 6 columns):\n",
            " #   Column    Non-Null Count  Dtype  \n",
            "---  ------    --------------  -----  \n",
            " 0   datetime  36131 non-null  object \n",
            " 1   grid_id   36131 non-null  object \n",
            " 2   value     36131 non-null  float64\n",
            " 3   location  36131 non-null  object \n",
            " 4   tz        36131 non-null  object \n",
            " 5   wkt       36131 non-null  object \n",
            "dtypes: float64(1), object(5)\n",
            "memory usage: 1.9+ MB\n"
          ]
        }
      ]
    },
    {
      "cell_type": "code",
      "source": [
        "train_df.head()"
      ],
      "metadata": {
        "colab": {
          "base_uri": "https://localhost:8080/",
          "height": 206
        },
        "id": "IoxVwT9RIdmh",
        "outputId": "fb315aad-eb5c-4720-f6cf-12d837b0aec3"
      },
      "execution_count": null,
      "outputs": [
        {
          "output_type": "execute_result",
          "data": {
            "text/html": [
              "\n",
              "  <div id=\"df-84be0672-cf19-4347-894b-74e863776c95\">\n",
              "    <div class=\"colab-df-container\">\n",
              "      <div>\n",
              "<style scoped>\n",
              "    .dataframe tbody tr th:only-of-type {\n",
              "        vertical-align: middle;\n",
              "    }\n",
              "\n",
              "    .dataframe tbody tr th {\n",
              "        vertical-align: top;\n",
              "    }\n",
              "\n",
              "    .dataframe thead th {\n",
              "        text-align: right;\n",
              "    }\n",
              "</style>\n",
              "<table border=\"1\" class=\"dataframe\">\n",
              "  <thead>\n",
              "    <tr style=\"text-align: right;\">\n",
              "      <th></th>\n",
              "      <th>datetime</th>\n",
              "      <th>grid_id</th>\n",
              "      <th>value</th>\n",
              "      <th>location</th>\n",
              "      <th>tz</th>\n",
              "      <th>wkt</th>\n",
              "    </tr>\n",
              "  </thead>\n",
              "  <tbody>\n",
              "    <tr>\n",
              "      <th>0</th>\n",
              "      <td>2019-01-01T08:00:00Z</td>\n",
              "      <td>3A3IE</td>\n",
              "      <td>8.695000</td>\n",
              "      <td>Los Angeles (SoCAB)</td>\n",
              "      <td>Etc/GMT+8</td>\n",
              "      <td>POLYGON ((-117.8889090614936 34.13085940091023...</td>\n",
              "    </tr>\n",
              "    <tr>\n",
              "      <th>1</th>\n",
              "      <td>2019-01-01T08:00:00Z</td>\n",
              "      <td>3S31A</td>\n",
              "      <td>10.496667</td>\n",
              "      <td>Los Angeles (SoCAB)</td>\n",
              "      <td>Etc/GMT+8</td>\n",
              "      <td>POLYGON ((-117.9338248256995 33.79558357488509...</td>\n",
              "    </tr>\n",
              "    <tr>\n",
              "      <th>2</th>\n",
              "      <td>2019-01-01T08:00:00Z</td>\n",
              "      <td>7II4T</td>\n",
              "      <td>37.208333</td>\n",
              "      <td>Los Angeles (SoCAB)</td>\n",
              "      <td>Etc/GMT+8</td>\n",
              "      <td>POLYGON ((-118.0236563541115 33.98201108613195...</td>\n",
              "    </tr>\n",
              "    <tr>\n",
              "      <th>3</th>\n",
              "      <td>2019-01-01T08:00:00Z</td>\n",
              "      <td>8BOQH</td>\n",
              "      <td>9.791667</td>\n",
              "      <td>Los Angeles (SoCAB)</td>\n",
              "      <td>Etc/GMT+8</td>\n",
              "      <td>POLYGON ((-118.4278982319653 34.01924766510738...</td>\n",
              "    </tr>\n",
              "    <tr>\n",
              "      <th>4</th>\n",
              "      <td>2019-01-01T08:00:00Z</td>\n",
              "      <td>A2FBI</td>\n",
              "      <td>4.308333</td>\n",
              "      <td>Los Angeles (SoCAB)</td>\n",
              "      <td>Etc/GMT+8</td>\n",
              "      <td>POLYGON ((-117.3948356552278 33.98201108613195...</td>\n",
              "    </tr>\n",
              "  </tbody>\n",
              "</table>\n",
              "</div>\n",
              "      <button class=\"colab-df-convert\" onclick=\"convertToInteractive('df-84be0672-cf19-4347-894b-74e863776c95')\"\n",
              "              title=\"Convert this dataframe to an interactive table.\"\n",
              "              style=\"display:none;\">\n",
              "        \n",
              "  <svg xmlns=\"http://www.w3.org/2000/svg\" height=\"24px\"viewBox=\"0 0 24 24\"\n",
              "       width=\"24px\">\n",
              "    <path d=\"M0 0h24v24H0V0z\" fill=\"none\"/>\n",
              "    <path d=\"M18.56 5.44l.94 2.06.94-2.06 2.06-.94-2.06-.94-.94-2.06-.94 2.06-2.06.94zm-11 1L8.5 8.5l.94-2.06 2.06-.94-2.06-.94L8.5 2.5l-.94 2.06-2.06.94zm10 10l.94 2.06.94-2.06 2.06-.94-2.06-.94-.94-2.06-.94 2.06-2.06.94z\"/><path d=\"M17.41 7.96l-1.37-1.37c-.4-.4-.92-.59-1.43-.59-.52 0-1.04.2-1.43.59L10.3 9.45l-7.72 7.72c-.78.78-.78 2.05 0 2.83L4 21.41c.39.39.9.59 1.41.59.51 0 1.02-.2 1.41-.59l7.78-7.78 2.81-2.81c.8-.78.8-2.07 0-2.86zM5.41 20L4 18.59l7.72-7.72 1.47 1.35L5.41 20z\"/>\n",
              "  </svg>\n",
              "      </button>\n",
              "      \n",
              "  <style>\n",
              "    .colab-df-container {\n",
              "      display:flex;\n",
              "      flex-wrap:wrap;\n",
              "      gap: 12px;\n",
              "    }\n",
              "\n",
              "    .colab-df-convert {\n",
              "      background-color: #E8F0FE;\n",
              "      border: none;\n",
              "      border-radius: 50%;\n",
              "      cursor: pointer;\n",
              "      display: none;\n",
              "      fill: #1967D2;\n",
              "      height: 32px;\n",
              "      padding: 0 0 0 0;\n",
              "      width: 32px;\n",
              "    }\n",
              "\n",
              "    .colab-df-convert:hover {\n",
              "      background-color: #E2EBFA;\n",
              "      box-shadow: 0px 1px 2px rgba(60, 64, 67, 0.3), 0px 1px 3px 1px rgba(60, 64, 67, 0.15);\n",
              "      fill: #174EA6;\n",
              "    }\n",
              "\n",
              "    [theme=dark] .colab-df-convert {\n",
              "      background-color: #3B4455;\n",
              "      fill: #D2E3FC;\n",
              "    }\n",
              "\n",
              "    [theme=dark] .colab-df-convert:hover {\n",
              "      background-color: #434B5C;\n",
              "      box-shadow: 0px 1px 3px 1px rgba(0, 0, 0, 0.15);\n",
              "      filter: drop-shadow(0px 1px 2px rgba(0, 0, 0, 0.3));\n",
              "      fill: #FFFFFF;\n",
              "    }\n",
              "  </style>\n",
              "\n",
              "      <script>\n",
              "        const buttonEl =\n",
              "          document.querySelector('#df-84be0672-cf19-4347-894b-74e863776c95 button.colab-df-convert');\n",
              "        buttonEl.style.display =\n",
              "          google.colab.kernel.accessAllowed ? 'block' : 'none';\n",
              "\n",
              "        async function convertToInteractive(key) {\n",
              "          const element = document.querySelector('#df-84be0672-cf19-4347-894b-74e863776c95');\n",
              "          const dataTable =\n",
              "            await google.colab.kernel.invokeFunction('convertToInteractive',\n",
              "                                                     [key], {});\n",
              "          if (!dataTable) return;\n",
              "\n",
              "          const docLinkHtml = 'Like what you see? Visit the ' +\n",
              "            '<a target=\"_blank\" href=https://colab.research.google.com/notebooks/data_table.ipynb>data table notebook</a>'\n",
              "            + ' to learn more about interactive tables.';\n",
              "          element.innerHTML = '';\n",
              "          dataTable['output_type'] = 'display_data';\n",
              "          await google.colab.output.renderOutput(dataTable, element);\n",
              "          const docLink = document.createElement('div');\n",
              "          docLink.innerHTML = docLinkHtml;\n",
              "          element.appendChild(docLink);\n",
              "        }\n",
              "      </script>\n",
              "    </div>\n",
              "  </div>\n",
              "  "
            ],
            "text/plain": [
              "               datetime  ...                                                wkt\n",
              "0  2019-01-01T08:00:00Z  ...  POLYGON ((-117.8889090614936 34.13085940091023...\n",
              "1  2019-01-01T08:00:00Z  ...  POLYGON ((-117.9338248256995 33.79558357488509...\n",
              "2  2019-01-01T08:00:00Z  ...  POLYGON ((-118.0236563541115 33.98201108613195...\n",
              "3  2019-01-01T08:00:00Z  ...  POLYGON ((-118.4278982319653 34.01924766510738...\n",
              "4  2019-01-01T08:00:00Z  ...  POLYGON ((-117.3948356552278 33.98201108613195...\n",
              "\n",
              "[5 rows x 6 columns]"
            ]
          },
          "metadata": {},
          "execution_count": 6
        }
      ]
    },
    {
      "cell_type": "code",
      "source": [
        "#metdata for satellite file\n",
        "no2_satellite_md = pd.read_csv('/content/drive/MyDrive/Driven_Data/NASA-NO2/Data/no2_satellite_metadata_0AF3h09.csv')\n",
        "no2_satellite_md.info()"
      ],
      "metadata": {
        "colab": {
          "base_uri": "https://localhost:8080/"
        },
        "id": "l3AQ9hX6I3CP",
        "outputId": "dfb20d26-464a-4e86-93b5-1cb8d764ced3"
      },
      "execution_count": null,
      "outputs": [
        {
          "output_type": "stream",
          "name": "stdout",
          "text": [
            "<class 'pandas.core.frame.DataFrame'>\n",
            "RangeIndex: 5013 entries, 0 to 5012\n",
            "Data columns (total 11 columns):\n",
            " #   Column        Non-Null Count  Dtype \n",
            "---  ------        --------------  ----- \n",
            " 0   granule_id    5013 non-null   object\n",
            " 1   time_start    5013 non-null   object\n",
            " 2   time_end      5013 non-null   object\n",
            " 3   product       5013 non-null   object\n",
            " 4   location      5013 non-null   object\n",
            " 5   split         5013 non-null   object\n",
            " 6   us_url        5013 non-null   object\n",
            " 7   eu_url        5013 non-null   object\n",
            " 8   as_url        5013 non-null   object\n",
            " 9   cksum         5013 non-null   int64 \n",
            " 10  granule_size  5013 non-null   int64 \n",
            "dtypes: int64(2), object(9)\n",
            "memory usage: 430.9+ KB\n"
          ]
        }
      ]
    },
    {
      "cell_type": "code",
      "source": [
        "no2_satellite_md.head()"
      ],
      "metadata": {
        "colab": {
          "base_uri": "https://localhost:8080/",
          "height": 336
        },
        "id": "5Adf1DK7JBik",
        "outputId": "39a1777e-e626-441e-feb7-f03ed3d585b3"
      },
      "execution_count": null,
      "outputs": [
        {
          "output_type": "execute_result",
          "data": {
            "text/html": [
              "\n",
              "  <div id=\"df-f61c6eaa-3b75-4af6-b0f2-a97f3ab12ca7\">\n",
              "    <div class=\"colab-df-container\">\n",
              "      <div>\n",
              "<style scoped>\n",
              "    .dataframe tbody tr th:only-of-type {\n",
              "        vertical-align: middle;\n",
              "    }\n",
              "\n",
              "    .dataframe tbody tr th {\n",
              "        vertical-align: top;\n",
              "    }\n",
              "\n",
              "    .dataframe thead th {\n",
              "        text-align: right;\n",
              "    }\n",
              "</style>\n",
              "<table border=\"1\" class=\"dataframe\">\n",
              "  <thead>\n",
              "    <tr style=\"text-align: right;\">\n",
              "      <th></th>\n",
              "      <th>granule_id</th>\n",
              "      <th>time_start</th>\n",
              "      <th>time_end</th>\n",
              "      <th>product</th>\n",
              "      <th>location</th>\n",
              "      <th>split</th>\n",
              "      <th>us_url</th>\n",
              "      <th>eu_url</th>\n",
              "      <th>as_url</th>\n",
              "      <th>cksum</th>\n",
              "      <th>granule_size</th>\n",
              "    </tr>\n",
              "  </thead>\n",
              "  <tbody>\n",
              "    <tr>\n",
              "      <th>0</th>\n",
              "      <td>20190101T213357_tropomi_la_0.nc</td>\n",
              "      <td>2019-01-01T20:35:33.000Z</td>\n",
              "      <td>2019-01-01 21:33:57+00:00</td>\n",
              "      <td>tropomi</td>\n",
              "      <td>la</td>\n",
              "      <td>train</td>\n",
              "      <td>s3://drivendata-competition-airathon-public-us...</td>\n",
              "      <td>s3://drivendata-competition-airathon-public-eu...</td>\n",
              "      <td>s3://drivendata-competition-airathon-public-as...</td>\n",
              "      <td>1611277770</td>\n",
              "      <td>332149977</td>\n",
              "    </tr>\n",
              "    <tr>\n",
              "      <th>1</th>\n",
              "      <td>20190102T211456_tropomi_la_0.nc</td>\n",
              "      <td>2019-01-02T20:16:33.000Z</td>\n",
              "      <td>2019-01-02 21:14:56+00:00</td>\n",
              "      <td>tropomi</td>\n",
              "      <td>la</td>\n",
              "      <td>train</td>\n",
              "      <td>s3://drivendata-competition-airathon-public-us...</td>\n",
              "      <td>s3://drivendata-competition-airathon-public-eu...</td>\n",
              "      <td>s3://drivendata-competition-airathon-public-as...</td>\n",
              "      <td>1146925070</td>\n",
              "      <td>334150299</td>\n",
              "    </tr>\n",
              "    <tr>\n",
              "      <th>2</th>\n",
              "      <td>20190103T205556_tropomi_la_0.nc</td>\n",
              "      <td>2019-01-03T19:57:33.000Z</td>\n",
              "      <td>2019-01-03 20:55:56+00:00</td>\n",
              "      <td>tropomi</td>\n",
              "      <td>la</td>\n",
              "      <td>train</td>\n",
              "      <td>s3://drivendata-competition-airathon-public-us...</td>\n",
              "      <td>s3://drivendata-competition-airathon-public-eu...</td>\n",
              "      <td>s3://drivendata-competition-airathon-public-as...</td>\n",
              "      <td>165673661</td>\n",
              "      <td>334661071</td>\n",
              "    </tr>\n",
              "    <tr>\n",
              "      <th>3</th>\n",
              "      <td>20190104T203656_tropomi_la_0.nc</td>\n",
              "      <td>2019-01-04T19:38:33.000Z</td>\n",
              "      <td>2019-01-04 20:36:56+00:00</td>\n",
              "      <td>tropomi</td>\n",
              "      <td>la</td>\n",
              "      <td>train</td>\n",
              "      <td>s3://drivendata-competition-airathon-public-us...</td>\n",
              "      <td>s3://drivendata-competition-airathon-public-eu...</td>\n",
              "      <td>s3://drivendata-competition-airathon-public-as...</td>\n",
              "      <td>2963951339</td>\n",
              "      <td>337713636</td>\n",
              "    </tr>\n",
              "    <tr>\n",
              "      <th>4</th>\n",
              "      <td>20190105T201756_tropomi_la_0.nc</td>\n",
              "      <td>2019-01-05T19:19:33.000Z</td>\n",
              "      <td>2019-01-05 20:17:56+00:00</td>\n",
              "      <td>tropomi</td>\n",
              "      <td>la</td>\n",
              "      <td>train</td>\n",
              "      <td>s3://drivendata-competition-airathon-public-us...</td>\n",
              "      <td>s3://drivendata-competition-airathon-public-eu...</td>\n",
              "      <td>s3://drivendata-competition-airathon-public-as...</td>\n",
              "      <td>4029547159</td>\n",
              "      <td>333323724</td>\n",
              "    </tr>\n",
              "  </tbody>\n",
              "</table>\n",
              "</div>\n",
              "      <button class=\"colab-df-convert\" onclick=\"convertToInteractive('df-f61c6eaa-3b75-4af6-b0f2-a97f3ab12ca7')\"\n",
              "              title=\"Convert this dataframe to an interactive table.\"\n",
              "              style=\"display:none;\">\n",
              "        \n",
              "  <svg xmlns=\"http://www.w3.org/2000/svg\" height=\"24px\"viewBox=\"0 0 24 24\"\n",
              "       width=\"24px\">\n",
              "    <path d=\"M0 0h24v24H0V0z\" fill=\"none\"/>\n",
              "    <path d=\"M18.56 5.44l.94 2.06.94-2.06 2.06-.94-2.06-.94-.94-2.06-.94 2.06-2.06.94zm-11 1L8.5 8.5l.94-2.06 2.06-.94-2.06-.94L8.5 2.5l-.94 2.06-2.06.94zm10 10l.94 2.06.94-2.06 2.06-.94-2.06-.94-.94-2.06-.94 2.06-2.06.94z\"/><path d=\"M17.41 7.96l-1.37-1.37c-.4-.4-.92-.59-1.43-.59-.52 0-1.04.2-1.43.59L10.3 9.45l-7.72 7.72c-.78.78-.78 2.05 0 2.83L4 21.41c.39.39.9.59 1.41.59.51 0 1.02-.2 1.41-.59l7.78-7.78 2.81-2.81c.8-.78.8-2.07 0-2.86zM5.41 20L4 18.59l7.72-7.72 1.47 1.35L5.41 20z\"/>\n",
              "  </svg>\n",
              "      </button>\n",
              "      \n",
              "  <style>\n",
              "    .colab-df-container {\n",
              "      display:flex;\n",
              "      flex-wrap:wrap;\n",
              "      gap: 12px;\n",
              "    }\n",
              "\n",
              "    .colab-df-convert {\n",
              "      background-color: #E8F0FE;\n",
              "      border: none;\n",
              "      border-radius: 50%;\n",
              "      cursor: pointer;\n",
              "      display: none;\n",
              "      fill: #1967D2;\n",
              "      height: 32px;\n",
              "      padding: 0 0 0 0;\n",
              "      width: 32px;\n",
              "    }\n",
              "\n",
              "    .colab-df-convert:hover {\n",
              "      background-color: #E2EBFA;\n",
              "      box-shadow: 0px 1px 2px rgba(60, 64, 67, 0.3), 0px 1px 3px 1px rgba(60, 64, 67, 0.15);\n",
              "      fill: #174EA6;\n",
              "    }\n",
              "\n",
              "    [theme=dark] .colab-df-convert {\n",
              "      background-color: #3B4455;\n",
              "      fill: #D2E3FC;\n",
              "    }\n",
              "\n",
              "    [theme=dark] .colab-df-convert:hover {\n",
              "      background-color: #434B5C;\n",
              "      box-shadow: 0px 1px 3px 1px rgba(0, 0, 0, 0.15);\n",
              "      filter: drop-shadow(0px 1px 2px rgba(0, 0, 0, 0.3));\n",
              "      fill: #FFFFFF;\n",
              "    }\n",
              "  </style>\n",
              "\n",
              "      <script>\n",
              "        const buttonEl =\n",
              "          document.querySelector('#df-f61c6eaa-3b75-4af6-b0f2-a97f3ab12ca7 button.colab-df-convert');\n",
              "        buttonEl.style.display =\n",
              "          google.colab.kernel.accessAllowed ? 'block' : 'none';\n",
              "\n",
              "        async function convertToInteractive(key) {\n",
              "          const element = document.querySelector('#df-f61c6eaa-3b75-4af6-b0f2-a97f3ab12ca7');\n",
              "          const dataTable =\n",
              "            await google.colab.kernel.invokeFunction('convertToInteractive',\n",
              "                                                     [key], {});\n",
              "          if (!dataTable) return;\n",
              "\n",
              "          const docLinkHtml = 'Like what you see? Visit the ' +\n",
              "            '<a target=\"_blank\" href=https://colab.research.google.com/notebooks/data_table.ipynb>data table notebook</a>'\n",
              "            + ' to learn more about interactive tables.';\n",
              "          element.innerHTML = '';\n",
              "          dataTable['output_type'] = 'display_data';\n",
              "          await google.colab.output.renderOutput(dataTable, element);\n",
              "          const docLink = document.createElement('div');\n",
              "          docLink.innerHTML = docLinkHtml;\n",
              "          element.appendChild(docLink);\n",
              "        }\n",
              "      </script>\n",
              "    </div>\n",
              "  </div>\n",
              "  "
            ],
            "text/plain": [
              "                        granule_id  ... granule_size\n",
              "0  20190101T213357_tropomi_la_0.nc  ...    332149977\n",
              "1  20190102T211456_tropomi_la_0.nc  ...    334150299\n",
              "2  20190103T205556_tropomi_la_0.nc  ...    334661071\n",
              "3  20190104T203656_tropomi_la_0.nc  ...    337713636\n",
              "4  20190105T201756_tropomi_la_0.nc  ...    333323724\n",
              "\n",
              "[5 rows x 11 columns]"
            ]
          },
          "metadata": {},
          "execution_count": 8
        }
      ]
    },
    {
      "cell_type": "code",
      "source": [
        "no2_satellite_md['product'].value_counts()"
      ],
      "metadata": {
        "colab": {
          "base_uri": "https://localhost:8080/"
        },
        "id": "VrtkzCsSJI4Z",
        "outputId": "5dfafe63-14e5-474a-9b4f-35712fabac1c"
      },
      "execution_count": null,
      "outputs": [
        {
          "output_type": "execute_result",
          "data": {
            "text/plain": [
              "tropomi_hires    2750\n",
              "tropomi          1193\n",
              "omi              1070\n",
              "Name: product, dtype: int64"
            ]
          },
          "metadata": {},
          "execution_count": 9
        }
      ]
    },
    {
      "cell_type": "code",
      "source": [
        "no2_satellite_md['location'].value_counts()"
      ],
      "metadata": {
        "colab": {
          "base_uri": "https://localhost:8080/"
        },
        "id": "EHPok14XJpjF",
        "outputId": "33b47be1-6bca-46bf-dc45-162b735b6f06"
      },
      "execution_count": null,
      "outputs": [
        {
          "output_type": "execute_result",
          "data": {
            "text/plain": [
              "la           1461\n",
              "dl           1262\n",
              "tpe          1220\n",
              "dl-la-tpe    1070\n",
              "Name: location, dtype: int64"
            ]
          },
          "metadata": {},
          "execution_count": 10
        }
      ]
    },
    {
      "cell_type": "code",
      "source": [
        "no2_satellite_md['split'].value_counts()"
      ],
      "metadata": {
        "colab": {
          "base_uri": "https://localhost:8080/"
        },
        "id": "aqiyfwCuJucX",
        "outputId": "aee267e1-9d31-4784-d4af-d59a271fe121"
      },
      "execution_count": null,
      "outputs": [
        {
          "output_type": "execute_result",
          "data": {
            "text/plain": [
              "train    3156\n",
              "test     1857\n",
              "Name: split, dtype: int64"
            ]
          },
          "metadata": {},
          "execution_count": 11
        }
      ]
    },
    {
      "cell_type": "code",
      "source": [
        "omi_mdf = no2_satellite_md[no2_satellite_md['product'] == 'omi']\n",
        "omi_mdf.info()"
      ],
      "metadata": {
        "colab": {
          "base_uri": "https://localhost:8080/"
        },
        "id": "5ZKgCqItJyaR",
        "outputId": "c56d2885-14ba-4a9b-d976-a9eb91a8b037"
      },
      "execution_count": null,
      "outputs": [
        {
          "output_type": "stream",
          "name": "stdout",
          "text": [
            "<class 'pandas.core.frame.DataFrame'>\n",
            "Int64Index: 1070 entries, 3943 to 5012\n",
            "Data columns (total 11 columns):\n",
            " #   Column        Non-Null Count  Dtype \n",
            "---  ------        --------------  ----- \n",
            " 0   granule_id    1070 non-null   object\n",
            " 1   time_start    1070 non-null   object\n",
            " 2   time_end      1070 non-null   object\n",
            " 3   product       1070 non-null   object\n",
            " 4   location      1070 non-null   object\n",
            " 5   split         1070 non-null   object\n",
            " 6   us_url        1070 non-null   object\n",
            " 7   eu_url        1070 non-null   object\n",
            " 8   as_url        1070 non-null   object\n",
            " 9   cksum         1070 non-null   int64 \n",
            " 10  granule_size  1070 non-null   int64 \n",
            "dtypes: int64(2), object(9)\n",
            "memory usage: 100.3+ KB\n"
          ]
        }
      ]
    },
    {
      "cell_type": "code",
      "source": [
        "omi_mdf.head()"
      ],
      "metadata": {
        "colab": {
          "base_uri": "https://localhost:8080/",
          "height": 336
        },
        "id": "qj14AW8LxyTb",
        "outputId": "ef78c248-fc50-4ca4-dfa6-b87052d521d9"
      },
      "execution_count": null,
      "outputs": [
        {
          "output_type": "execute_result",
          "data": {
            "text/html": [
              "\n",
              "  <div id=\"df-3c496561-fc79-4f85-a47c-854f89934954\">\n",
              "    <div class=\"colab-df-container\">\n",
              "      <div>\n",
              "<style scoped>\n",
              "    .dataframe tbody tr th:only-of-type {\n",
              "        vertical-align: middle;\n",
              "    }\n",
              "\n",
              "    .dataframe tbody tr th {\n",
              "        vertical-align: top;\n",
              "    }\n",
              "\n",
              "    .dataframe thead th {\n",
              "        text-align: right;\n",
              "    }\n",
              "</style>\n",
              "<table border=\"1\" class=\"dataframe\">\n",
              "  <thead>\n",
              "    <tr style=\"text-align: right;\">\n",
              "      <th></th>\n",
              "      <th>granule_id</th>\n",
              "      <th>time_start</th>\n",
              "      <th>time_end</th>\n",
              "      <th>product</th>\n",
              "      <th>location</th>\n",
              "      <th>split</th>\n",
              "      <th>us_url</th>\n",
              "      <th>eu_url</th>\n",
              "      <th>as_url</th>\n",
              "      <th>cksum</th>\n",
              "      <th>granule_size</th>\n",
              "    </tr>\n",
              "  </thead>\n",
              "  <tbody>\n",
              "    <tr>\n",
              "      <th>3943</th>\n",
              "      <td>20190101T235959_omi_dl-la-tpe_0.he5</td>\n",
              "      <td>2019-01-01T00:00:00.000Z</td>\n",
              "      <td>2019-01-01 23:59:59+00:00</td>\n",
              "      <td>omi</td>\n",
              "      <td>dl-la-tpe</td>\n",
              "      <td>train</td>\n",
              "      <td>s3://drivendata-competition-airathon-public-us...</td>\n",
              "      <td>s3://drivendata-competition-airathon-public-eu...</td>\n",
              "      <td>s3://drivendata-competition-airathon-public-as...</td>\n",
              "      <td>2423440162</td>\n",
              "      <td>11127998</td>\n",
              "    </tr>\n",
              "    <tr>\n",
              "      <th>3944</th>\n",
              "      <td>20190102T235959_omi_dl-la-tpe_0.he5</td>\n",
              "      <td>2019-01-02T00:00:00.000Z</td>\n",
              "      <td>2019-01-02 23:59:59+00:00</td>\n",
              "      <td>omi</td>\n",
              "      <td>dl-la-tpe</td>\n",
              "      <td>train</td>\n",
              "      <td>s3://drivendata-competition-airathon-public-us...</td>\n",
              "      <td>s3://drivendata-competition-airathon-public-eu...</td>\n",
              "      <td>s3://drivendata-competition-airathon-public-as...</td>\n",
              "      <td>3526775882</td>\n",
              "      <td>11169726</td>\n",
              "    </tr>\n",
              "    <tr>\n",
              "      <th>3945</th>\n",
              "      <td>20190103T235959_omi_dl-la-tpe_0.he5</td>\n",
              "      <td>2019-01-03T00:00:00.000Z</td>\n",
              "      <td>2019-01-03 23:59:59+00:00</td>\n",
              "      <td>omi</td>\n",
              "      <td>dl-la-tpe</td>\n",
              "      <td>train</td>\n",
              "      <td>s3://drivendata-competition-airathon-public-us...</td>\n",
              "      <td>s3://drivendata-competition-airathon-public-eu...</td>\n",
              "      <td>s3://drivendata-competition-airathon-public-as...</td>\n",
              "      <td>388814420</td>\n",
              "      <td>10937679</td>\n",
              "    </tr>\n",
              "    <tr>\n",
              "      <th>3946</th>\n",
              "      <td>20190104T235959_omi_dl-la-tpe_0.he5</td>\n",
              "      <td>2019-01-04T00:00:00.000Z</td>\n",
              "      <td>2019-01-04 23:59:59+00:00</td>\n",
              "      <td>omi</td>\n",
              "      <td>dl-la-tpe</td>\n",
              "      <td>train</td>\n",
              "      <td>s3://drivendata-competition-airathon-public-us...</td>\n",
              "      <td>s3://drivendata-competition-airathon-public-eu...</td>\n",
              "      <td>s3://drivendata-competition-airathon-public-as...</td>\n",
              "      <td>1410261098</td>\n",
              "      <td>11141005</td>\n",
              "    </tr>\n",
              "    <tr>\n",
              "      <th>3947</th>\n",
              "      <td>20190105T235959_omi_dl-la-tpe_0.he5</td>\n",
              "      <td>2019-01-05T00:00:00.000Z</td>\n",
              "      <td>2019-01-05 23:59:59+00:00</td>\n",
              "      <td>omi</td>\n",
              "      <td>dl-la-tpe</td>\n",
              "      <td>train</td>\n",
              "      <td>s3://drivendata-competition-airathon-public-us...</td>\n",
              "      <td>s3://drivendata-competition-airathon-public-eu...</td>\n",
              "      <td>s3://drivendata-competition-airathon-public-as...</td>\n",
              "      <td>1765932191</td>\n",
              "      <td>10819793</td>\n",
              "    </tr>\n",
              "  </tbody>\n",
              "</table>\n",
              "</div>\n",
              "      <button class=\"colab-df-convert\" onclick=\"convertToInteractive('df-3c496561-fc79-4f85-a47c-854f89934954')\"\n",
              "              title=\"Convert this dataframe to an interactive table.\"\n",
              "              style=\"display:none;\">\n",
              "        \n",
              "  <svg xmlns=\"http://www.w3.org/2000/svg\" height=\"24px\"viewBox=\"0 0 24 24\"\n",
              "       width=\"24px\">\n",
              "    <path d=\"M0 0h24v24H0V0z\" fill=\"none\"/>\n",
              "    <path d=\"M18.56 5.44l.94 2.06.94-2.06 2.06-.94-2.06-.94-.94-2.06-.94 2.06-2.06.94zm-11 1L8.5 8.5l.94-2.06 2.06-.94-2.06-.94L8.5 2.5l-.94 2.06-2.06.94zm10 10l.94 2.06.94-2.06 2.06-.94-2.06-.94-.94-2.06-.94 2.06-2.06.94z\"/><path d=\"M17.41 7.96l-1.37-1.37c-.4-.4-.92-.59-1.43-.59-.52 0-1.04.2-1.43.59L10.3 9.45l-7.72 7.72c-.78.78-.78 2.05 0 2.83L4 21.41c.39.39.9.59 1.41.59.51 0 1.02-.2 1.41-.59l7.78-7.78 2.81-2.81c.8-.78.8-2.07 0-2.86zM5.41 20L4 18.59l7.72-7.72 1.47 1.35L5.41 20z\"/>\n",
              "  </svg>\n",
              "      </button>\n",
              "      \n",
              "  <style>\n",
              "    .colab-df-container {\n",
              "      display:flex;\n",
              "      flex-wrap:wrap;\n",
              "      gap: 12px;\n",
              "    }\n",
              "\n",
              "    .colab-df-convert {\n",
              "      background-color: #E8F0FE;\n",
              "      border: none;\n",
              "      border-radius: 50%;\n",
              "      cursor: pointer;\n",
              "      display: none;\n",
              "      fill: #1967D2;\n",
              "      height: 32px;\n",
              "      padding: 0 0 0 0;\n",
              "      width: 32px;\n",
              "    }\n",
              "\n",
              "    .colab-df-convert:hover {\n",
              "      background-color: #E2EBFA;\n",
              "      box-shadow: 0px 1px 2px rgba(60, 64, 67, 0.3), 0px 1px 3px 1px rgba(60, 64, 67, 0.15);\n",
              "      fill: #174EA6;\n",
              "    }\n",
              "\n",
              "    [theme=dark] .colab-df-convert {\n",
              "      background-color: #3B4455;\n",
              "      fill: #D2E3FC;\n",
              "    }\n",
              "\n",
              "    [theme=dark] .colab-df-convert:hover {\n",
              "      background-color: #434B5C;\n",
              "      box-shadow: 0px 1px 3px 1px rgba(0, 0, 0, 0.15);\n",
              "      filter: drop-shadow(0px 1px 2px rgba(0, 0, 0, 0.3));\n",
              "      fill: #FFFFFF;\n",
              "    }\n",
              "  </style>\n",
              "\n",
              "      <script>\n",
              "        const buttonEl =\n",
              "          document.querySelector('#df-3c496561-fc79-4f85-a47c-854f89934954 button.colab-df-convert');\n",
              "        buttonEl.style.display =\n",
              "          google.colab.kernel.accessAllowed ? 'block' : 'none';\n",
              "\n",
              "        async function convertToInteractive(key) {\n",
              "          const element = document.querySelector('#df-3c496561-fc79-4f85-a47c-854f89934954');\n",
              "          const dataTable =\n",
              "            await google.colab.kernel.invokeFunction('convertToInteractive',\n",
              "                                                     [key], {});\n",
              "          if (!dataTable) return;\n",
              "\n",
              "          const docLinkHtml = 'Like what you see? Visit the ' +\n",
              "            '<a target=\"_blank\" href=https://colab.research.google.com/notebooks/data_table.ipynb>data table notebook</a>'\n",
              "            + ' to learn more about interactive tables.';\n",
              "          element.innerHTML = '';\n",
              "          dataTable['output_type'] = 'display_data';\n",
              "          await google.colab.output.renderOutput(dataTable, element);\n",
              "          const docLink = document.createElement('div');\n",
              "          docLink.innerHTML = docLinkHtml;\n",
              "          element.appendChild(docLink);\n",
              "        }\n",
              "      </script>\n",
              "    </div>\n",
              "  </div>\n",
              "  "
            ],
            "text/plain": [
              "                               granule_id  ... granule_size\n",
              "3943  20190101T235959_omi_dl-la-tpe_0.he5  ...     11127998\n",
              "3944  20190102T235959_omi_dl-la-tpe_0.he5  ...     11169726\n",
              "3945  20190103T235959_omi_dl-la-tpe_0.he5  ...     10937679\n",
              "3946  20190104T235959_omi_dl-la-tpe_0.he5  ...     11141005\n",
              "3947  20190105T235959_omi_dl-la-tpe_0.he5  ...     10819793\n",
              "\n",
              "[5 rows x 11 columns]"
            ]
          },
          "metadata": {},
          "execution_count": 13
        }
      ]
    },
    {
      "cell_type": "code",
      "source": [
        "omi_mdf.split.value_counts()"
      ],
      "metadata": {
        "colab": {
          "base_uri": "https://localhost:8080/"
        },
        "id": "DkGYknmkKk9K",
        "outputId": "f2fcd2c9-4383-495e-fe11-4ffbc8e27804"
      },
      "execution_count": null,
      "outputs": [
        {
          "output_type": "execute_result",
          "data": {
            "text/plain": [
              "train    671\n",
              "test     399\n",
              "Name: split, dtype: int64"
            ]
          },
          "metadata": {},
          "execution_count": 14
        }
      ]
    },
    {
      "cell_type": "code",
      "source": [
        "tropomi_mdf = no2_satellite_md[no2_satellite_md['product'] == 'tropomi']\n",
        "tropomi_mdf.info()"
      ],
      "metadata": {
        "colab": {
          "base_uri": "https://localhost:8080/"
        },
        "id": "SbkRehxWKn1n",
        "outputId": "f0512948-e442-4cf4-caf0-ef5ae5db2f54"
      },
      "execution_count": null,
      "outputs": [
        {
          "output_type": "stream",
          "name": "stdout",
          "text": [
            "<class 'pandas.core.frame.DataFrame'>\n",
            "Int64Index: 1193 entries, 0 to 1192\n",
            "Data columns (total 11 columns):\n",
            " #   Column        Non-Null Count  Dtype \n",
            "---  ------        --------------  ----- \n",
            " 0   granule_id    1193 non-null   object\n",
            " 1   time_start    1193 non-null   object\n",
            " 2   time_end      1193 non-null   object\n",
            " 3   product       1193 non-null   object\n",
            " 4   location      1193 non-null   object\n",
            " 5   split         1193 non-null   object\n",
            " 6   us_url        1193 non-null   object\n",
            " 7   eu_url        1193 non-null   object\n",
            " 8   as_url        1193 non-null   object\n",
            " 9   cksum         1193 non-null   int64 \n",
            " 10  granule_size  1193 non-null   int64 \n",
            "dtypes: int64(2), object(9)\n",
            "memory usage: 111.8+ KB\n"
          ]
        }
      ]
    },
    {
      "cell_type": "code",
      "source": [
        "tropomi_mdf.head()"
      ],
      "metadata": {
        "colab": {
          "base_uri": "https://localhost:8080/",
          "height": 336
        },
        "id": "Kzdprc_pLYsn",
        "outputId": "6e55b77a-36de-480f-8f8d-676d3064a414"
      },
      "execution_count": null,
      "outputs": [
        {
          "output_type": "execute_result",
          "data": {
            "text/html": [
              "\n",
              "  <div id=\"df-b7207abc-9ce6-4496-9ae0-311e1b6a8091\">\n",
              "    <div class=\"colab-df-container\">\n",
              "      <div>\n",
              "<style scoped>\n",
              "    .dataframe tbody tr th:only-of-type {\n",
              "        vertical-align: middle;\n",
              "    }\n",
              "\n",
              "    .dataframe tbody tr th {\n",
              "        vertical-align: top;\n",
              "    }\n",
              "\n",
              "    .dataframe thead th {\n",
              "        text-align: right;\n",
              "    }\n",
              "</style>\n",
              "<table border=\"1\" class=\"dataframe\">\n",
              "  <thead>\n",
              "    <tr style=\"text-align: right;\">\n",
              "      <th></th>\n",
              "      <th>granule_id</th>\n",
              "      <th>time_start</th>\n",
              "      <th>time_end</th>\n",
              "      <th>product</th>\n",
              "      <th>location</th>\n",
              "      <th>split</th>\n",
              "      <th>us_url</th>\n",
              "      <th>eu_url</th>\n",
              "      <th>as_url</th>\n",
              "      <th>cksum</th>\n",
              "      <th>granule_size</th>\n",
              "    </tr>\n",
              "  </thead>\n",
              "  <tbody>\n",
              "    <tr>\n",
              "      <th>0</th>\n",
              "      <td>20190101T213357_tropomi_la_0.nc</td>\n",
              "      <td>2019-01-01T20:35:33.000Z</td>\n",
              "      <td>2019-01-01 21:33:57+00:00</td>\n",
              "      <td>tropomi</td>\n",
              "      <td>la</td>\n",
              "      <td>train</td>\n",
              "      <td>s3://drivendata-competition-airathon-public-us...</td>\n",
              "      <td>s3://drivendata-competition-airathon-public-eu...</td>\n",
              "      <td>s3://drivendata-competition-airathon-public-as...</td>\n",
              "      <td>1611277770</td>\n",
              "      <td>332149977</td>\n",
              "    </tr>\n",
              "    <tr>\n",
              "      <th>1</th>\n",
              "      <td>20190102T211456_tropomi_la_0.nc</td>\n",
              "      <td>2019-01-02T20:16:33.000Z</td>\n",
              "      <td>2019-01-02 21:14:56+00:00</td>\n",
              "      <td>tropomi</td>\n",
              "      <td>la</td>\n",
              "      <td>train</td>\n",
              "      <td>s3://drivendata-competition-airathon-public-us...</td>\n",
              "      <td>s3://drivendata-competition-airathon-public-eu...</td>\n",
              "      <td>s3://drivendata-competition-airathon-public-as...</td>\n",
              "      <td>1146925070</td>\n",
              "      <td>334150299</td>\n",
              "    </tr>\n",
              "    <tr>\n",
              "      <th>2</th>\n",
              "      <td>20190103T205556_tropomi_la_0.nc</td>\n",
              "      <td>2019-01-03T19:57:33.000Z</td>\n",
              "      <td>2019-01-03 20:55:56+00:00</td>\n",
              "      <td>tropomi</td>\n",
              "      <td>la</td>\n",
              "      <td>train</td>\n",
              "      <td>s3://drivendata-competition-airathon-public-us...</td>\n",
              "      <td>s3://drivendata-competition-airathon-public-eu...</td>\n",
              "      <td>s3://drivendata-competition-airathon-public-as...</td>\n",
              "      <td>165673661</td>\n",
              "      <td>334661071</td>\n",
              "    </tr>\n",
              "    <tr>\n",
              "      <th>3</th>\n",
              "      <td>20190104T203656_tropomi_la_0.nc</td>\n",
              "      <td>2019-01-04T19:38:33.000Z</td>\n",
              "      <td>2019-01-04 20:36:56+00:00</td>\n",
              "      <td>tropomi</td>\n",
              "      <td>la</td>\n",
              "      <td>train</td>\n",
              "      <td>s3://drivendata-competition-airathon-public-us...</td>\n",
              "      <td>s3://drivendata-competition-airathon-public-eu...</td>\n",
              "      <td>s3://drivendata-competition-airathon-public-as...</td>\n",
              "      <td>2963951339</td>\n",
              "      <td>337713636</td>\n",
              "    </tr>\n",
              "    <tr>\n",
              "      <th>4</th>\n",
              "      <td>20190105T201756_tropomi_la_0.nc</td>\n",
              "      <td>2019-01-05T19:19:33.000Z</td>\n",
              "      <td>2019-01-05 20:17:56+00:00</td>\n",
              "      <td>tropomi</td>\n",
              "      <td>la</td>\n",
              "      <td>train</td>\n",
              "      <td>s3://drivendata-competition-airathon-public-us...</td>\n",
              "      <td>s3://drivendata-competition-airathon-public-eu...</td>\n",
              "      <td>s3://drivendata-competition-airathon-public-as...</td>\n",
              "      <td>4029547159</td>\n",
              "      <td>333323724</td>\n",
              "    </tr>\n",
              "  </tbody>\n",
              "</table>\n",
              "</div>\n",
              "      <button class=\"colab-df-convert\" onclick=\"convertToInteractive('df-b7207abc-9ce6-4496-9ae0-311e1b6a8091')\"\n",
              "              title=\"Convert this dataframe to an interactive table.\"\n",
              "              style=\"display:none;\">\n",
              "        \n",
              "  <svg xmlns=\"http://www.w3.org/2000/svg\" height=\"24px\"viewBox=\"0 0 24 24\"\n",
              "       width=\"24px\">\n",
              "    <path d=\"M0 0h24v24H0V0z\" fill=\"none\"/>\n",
              "    <path d=\"M18.56 5.44l.94 2.06.94-2.06 2.06-.94-2.06-.94-.94-2.06-.94 2.06-2.06.94zm-11 1L8.5 8.5l.94-2.06 2.06-.94-2.06-.94L8.5 2.5l-.94 2.06-2.06.94zm10 10l.94 2.06.94-2.06 2.06-.94-2.06-.94-.94-2.06-.94 2.06-2.06.94z\"/><path d=\"M17.41 7.96l-1.37-1.37c-.4-.4-.92-.59-1.43-.59-.52 0-1.04.2-1.43.59L10.3 9.45l-7.72 7.72c-.78.78-.78 2.05 0 2.83L4 21.41c.39.39.9.59 1.41.59.51 0 1.02-.2 1.41-.59l7.78-7.78 2.81-2.81c.8-.78.8-2.07 0-2.86zM5.41 20L4 18.59l7.72-7.72 1.47 1.35L5.41 20z\"/>\n",
              "  </svg>\n",
              "      </button>\n",
              "      \n",
              "  <style>\n",
              "    .colab-df-container {\n",
              "      display:flex;\n",
              "      flex-wrap:wrap;\n",
              "      gap: 12px;\n",
              "    }\n",
              "\n",
              "    .colab-df-convert {\n",
              "      background-color: #E8F0FE;\n",
              "      border: none;\n",
              "      border-radius: 50%;\n",
              "      cursor: pointer;\n",
              "      display: none;\n",
              "      fill: #1967D2;\n",
              "      height: 32px;\n",
              "      padding: 0 0 0 0;\n",
              "      width: 32px;\n",
              "    }\n",
              "\n",
              "    .colab-df-convert:hover {\n",
              "      background-color: #E2EBFA;\n",
              "      box-shadow: 0px 1px 2px rgba(60, 64, 67, 0.3), 0px 1px 3px 1px rgba(60, 64, 67, 0.15);\n",
              "      fill: #174EA6;\n",
              "    }\n",
              "\n",
              "    [theme=dark] .colab-df-convert {\n",
              "      background-color: #3B4455;\n",
              "      fill: #D2E3FC;\n",
              "    }\n",
              "\n",
              "    [theme=dark] .colab-df-convert:hover {\n",
              "      background-color: #434B5C;\n",
              "      box-shadow: 0px 1px 3px 1px rgba(0, 0, 0, 0.15);\n",
              "      filter: drop-shadow(0px 1px 2px rgba(0, 0, 0, 0.3));\n",
              "      fill: #FFFFFF;\n",
              "    }\n",
              "  </style>\n",
              "\n",
              "      <script>\n",
              "        const buttonEl =\n",
              "          document.querySelector('#df-b7207abc-9ce6-4496-9ae0-311e1b6a8091 button.colab-df-convert');\n",
              "        buttonEl.style.display =\n",
              "          google.colab.kernel.accessAllowed ? 'block' : 'none';\n",
              "\n",
              "        async function convertToInteractive(key) {\n",
              "          const element = document.querySelector('#df-b7207abc-9ce6-4496-9ae0-311e1b6a8091');\n",
              "          const dataTable =\n",
              "            await google.colab.kernel.invokeFunction('convertToInteractive',\n",
              "                                                     [key], {});\n",
              "          if (!dataTable) return;\n",
              "\n",
              "          const docLinkHtml = 'Like what you see? Visit the ' +\n",
              "            '<a target=\"_blank\" href=https://colab.research.google.com/notebooks/data_table.ipynb>data table notebook</a>'\n",
              "            + ' to learn more about interactive tables.';\n",
              "          element.innerHTML = '';\n",
              "          dataTable['output_type'] = 'display_data';\n",
              "          await google.colab.output.renderOutput(dataTable, element);\n",
              "          const docLink = document.createElement('div');\n",
              "          docLink.innerHTML = docLinkHtml;\n",
              "          element.appendChild(docLink);\n",
              "        }\n",
              "      </script>\n",
              "    </div>\n",
              "  </div>\n",
              "  "
            ],
            "text/plain": [
              "                        granule_id  ... granule_size\n",
              "0  20190101T213357_tropomi_la_0.nc  ...    332149977\n",
              "1  20190102T211456_tropomi_la_0.nc  ...    334150299\n",
              "2  20190103T205556_tropomi_la_0.nc  ...    334661071\n",
              "3  20190104T203656_tropomi_la_0.nc  ...    337713636\n",
              "4  20190105T201756_tropomi_la_0.nc  ...    333323724\n",
              "\n",
              "[5 rows x 11 columns]"
            ]
          },
          "metadata": {},
          "execution_count": 16
        }
      ]
    },
    {
      "cell_type": "code",
      "source": [
        "hires_mdf = no2_satellite_md[no2_satellite_md['product'] == 'tropomi_hires']\n",
        "hires_mdf.info()"
      ],
      "metadata": {
        "colab": {
          "base_uri": "https://localhost:8080/"
        },
        "id": "MkJwhsi1Ls5l",
        "outputId": "58c5a53e-f725-4319-e785-ff26e2d6640e"
      },
      "execution_count": null,
      "outputs": [
        {
          "output_type": "stream",
          "name": "stdout",
          "text": [
            "<class 'pandas.core.frame.DataFrame'>\n",
            "Int64Index: 2750 entries, 1193 to 3942\n",
            "Data columns (total 11 columns):\n",
            " #   Column        Non-Null Count  Dtype \n",
            "---  ------        --------------  ----- \n",
            " 0   granule_id    2750 non-null   object\n",
            " 1   time_start    2750 non-null   object\n",
            " 2   time_end      2750 non-null   object\n",
            " 3   product       2750 non-null   object\n",
            " 4   location      2750 non-null   object\n",
            " 5   split         2750 non-null   object\n",
            " 6   us_url        2750 non-null   object\n",
            " 7   eu_url        2750 non-null   object\n",
            " 8   as_url        2750 non-null   object\n",
            " 9   cksum         2750 non-null   int64 \n",
            " 10  granule_size  2750 non-null   int64 \n",
            "dtypes: int64(2), object(9)\n",
            "memory usage: 257.8+ KB\n"
          ]
        }
      ]
    },
    {
      "cell_type": "code",
      "source": [
        "hires_mdf.head()"
      ],
      "metadata": {
        "colab": {
          "base_uri": "https://localhost:8080/",
          "height": 336
        },
        "id": "-A_ZVsg4M_LX",
        "outputId": "4804cb6a-fff8-45aa-81b5-1eaa43a9f893"
      },
      "execution_count": null,
      "outputs": [
        {
          "output_type": "execute_result",
          "data": {
            "text/html": [
              "\n",
              "  <div id=\"df-3ec5485a-4b3e-4b91-b690-54c1d0e23ab7\">\n",
              "    <div class=\"colab-df-container\">\n",
              "      <div>\n",
              "<style scoped>\n",
              "    .dataframe tbody tr th:only-of-type {\n",
              "        vertical-align: middle;\n",
              "    }\n",
              "\n",
              "    .dataframe tbody tr th {\n",
              "        vertical-align: top;\n",
              "    }\n",
              "\n",
              "    .dataframe thead th {\n",
              "        text-align: right;\n",
              "    }\n",
              "</style>\n",
              "<table border=\"1\" class=\"dataframe\">\n",
              "  <thead>\n",
              "    <tr style=\"text-align: right;\">\n",
              "      <th></th>\n",
              "      <th>granule_id</th>\n",
              "      <th>time_start</th>\n",
              "      <th>time_end</th>\n",
              "      <th>product</th>\n",
              "      <th>location</th>\n",
              "      <th>split</th>\n",
              "      <th>us_url</th>\n",
              "      <th>eu_url</th>\n",
              "      <th>as_url</th>\n",
              "      <th>cksum</th>\n",
              "      <th>granule_size</th>\n",
              "    </tr>\n",
              "  </thead>\n",
              "  <tbody>\n",
              "    <tr>\n",
              "      <th>1193</th>\n",
              "      <td>20190806T203500_tropomi_hires_la_0.nc</td>\n",
              "      <td>2019-08-06T19:36:35.000Z</td>\n",
              "      <td>2019-08-06 20:35:00+00:00</td>\n",
              "      <td>tropomi_hires</td>\n",
              "      <td>la</td>\n",
              "      <td>train</td>\n",
              "      <td>s3://drivendata-competition-airathon-public-us...</td>\n",
              "      <td>s3://drivendata-competition-airathon-public-eu...</td>\n",
              "      <td>s3://drivendata-competition-airathon-public-as...</td>\n",
              "      <td>98226049</td>\n",
              "      <td>458238869</td>\n",
              "    </tr>\n",
              "    <tr>\n",
              "      <th>1194</th>\n",
              "      <td>20190806T221629_tropomi_hires_la_0.nc</td>\n",
              "      <td>2019-08-06T21:18:06.000Z</td>\n",
              "      <td>2019-08-06 22:16:29+00:00</td>\n",
              "      <td>tropomi_hires</td>\n",
              "      <td>la</td>\n",
              "      <td>train</td>\n",
              "      <td>s3://drivendata-competition-airathon-public-us...</td>\n",
              "      <td>s3://drivendata-competition-airathon-public-eu...</td>\n",
              "      <td>s3://drivendata-competition-airathon-public-as...</td>\n",
              "      <td>3731707405</td>\n",
              "      <td>451625521</td>\n",
              "    </tr>\n",
              "    <tr>\n",
              "      <th>1195</th>\n",
              "      <td>20190807T201554_tropomi_hires_la_0.nc</td>\n",
              "      <td>2019-08-07T19:17:29.000Z</td>\n",
              "      <td>2019-08-07 20:15:54+00:00</td>\n",
              "      <td>tropomi_hires</td>\n",
              "      <td>la</td>\n",
              "      <td>train</td>\n",
              "      <td>s3://drivendata-competition-airathon-public-us...</td>\n",
              "      <td>s3://drivendata-competition-airathon-public-eu...</td>\n",
              "      <td>s3://drivendata-competition-airathon-public-as...</td>\n",
              "      <td>90599763</td>\n",
              "      <td>456171857</td>\n",
              "    </tr>\n",
              "    <tr>\n",
              "      <th>1196</th>\n",
              "      <td>20190807T215723_tropomi_hires_la_0.nc</td>\n",
              "      <td>2019-08-07T20:59:00.000Z</td>\n",
              "      <td>2019-08-07 21:57:23+00:00</td>\n",
              "      <td>tropomi_hires</td>\n",
              "      <td>la</td>\n",
              "      <td>train</td>\n",
              "      <td>s3://drivendata-competition-airathon-public-us...</td>\n",
              "      <td>s3://drivendata-competition-airathon-public-eu...</td>\n",
              "      <td>s3://drivendata-competition-airathon-public-as...</td>\n",
              "      <td>1856867893</td>\n",
              "      <td>452744421</td>\n",
              "    </tr>\n",
              "    <tr>\n",
              "      <th>1197</th>\n",
              "      <td>20190808T213817_tropomi_hires_la_0.nc</td>\n",
              "      <td>2019-08-08T20:39:54.000Z</td>\n",
              "      <td>2019-08-08 21:38:17+00:00</td>\n",
              "      <td>tropomi_hires</td>\n",
              "      <td>la</td>\n",
              "      <td>train</td>\n",
              "      <td>s3://drivendata-competition-airathon-public-us...</td>\n",
              "      <td>s3://drivendata-competition-airathon-public-eu...</td>\n",
              "      <td>s3://drivendata-competition-airathon-public-as...</td>\n",
              "      <td>1357264836</td>\n",
              "      <td>453115772</td>\n",
              "    </tr>\n",
              "  </tbody>\n",
              "</table>\n",
              "</div>\n",
              "      <button class=\"colab-df-convert\" onclick=\"convertToInteractive('df-3ec5485a-4b3e-4b91-b690-54c1d0e23ab7')\"\n",
              "              title=\"Convert this dataframe to an interactive table.\"\n",
              "              style=\"display:none;\">\n",
              "        \n",
              "  <svg xmlns=\"http://www.w3.org/2000/svg\" height=\"24px\"viewBox=\"0 0 24 24\"\n",
              "       width=\"24px\">\n",
              "    <path d=\"M0 0h24v24H0V0z\" fill=\"none\"/>\n",
              "    <path d=\"M18.56 5.44l.94 2.06.94-2.06 2.06-.94-2.06-.94-.94-2.06-.94 2.06-2.06.94zm-11 1L8.5 8.5l.94-2.06 2.06-.94-2.06-.94L8.5 2.5l-.94 2.06-2.06.94zm10 10l.94 2.06.94-2.06 2.06-.94-2.06-.94-.94-2.06-.94 2.06-2.06.94z\"/><path d=\"M17.41 7.96l-1.37-1.37c-.4-.4-.92-.59-1.43-.59-.52 0-1.04.2-1.43.59L10.3 9.45l-7.72 7.72c-.78.78-.78 2.05 0 2.83L4 21.41c.39.39.9.59 1.41.59.51 0 1.02-.2 1.41-.59l7.78-7.78 2.81-2.81c.8-.78.8-2.07 0-2.86zM5.41 20L4 18.59l7.72-7.72 1.47 1.35L5.41 20z\"/>\n",
              "  </svg>\n",
              "      </button>\n",
              "      \n",
              "  <style>\n",
              "    .colab-df-container {\n",
              "      display:flex;\n",
              "      flex-wrap:wrap;\n",
              "      gap: 12px;\n",
              "    }\n",
              "\n",
              "    .colab-df-convert {\n",
              "      background-color: #E8F0FE;\n",
              "      border: none;\n",
              "      border-radius: 50%;\n",
              "      cursor: pointer;\n",
              "      display: none;\n",
              "      fill: #1967D2;\n",
              "      height: 32px;\n",
              "      padding: 0 0 0 0;\n",
              "      width: 32px;\n",
              "    }\n",
              "\n",
              "    .colab-df-convert:hover {\n",
              "      background-color: #E2EBFA;\n",
              "      box-shadow: 0px 1px 2px rgba(60, 64, 67, 0.3), 0px 1px 3px 1px rgba(60, 64, 67, 0.15);\n",
              "      fill: #174EA6;\n",
              "    }\n",
              "\n",
              "    [theme=dark] .colab-df-convert {\n",
              "      background-color: #3B4455;\n",
              "      fill: #D2E3FC;\n",
              "    }\n",
              "\n",
              "    [theme=dark] .colab-df-convert:hover {\n",
              "      background-color: #434B5C;\n",
              "      box-shadow: 0px 1px 3px 1px rgba(0, 0, 0, 0.15);\n",
              "      filter: drop-shadow(0px 1px 2px rgba(0, 0, 0, 0.3));\n",
              "      fill: #FFFFFF;\n",
              "    }\n",
              "  </style>\n",
              "\n",
              "      <script>\n",
              "        const buttonEl =\n",
              "          document.querySelector('#df-3ec5485a-4b3e-4b91-b690-54c1d0e23ab7 button.colab-df-convert');\n",
              "        buttonEl.style.display =\n",
              "          google.colab.kernel.accessAllowed ? 'block' : 'none';\n",
              "\n",
              "        async function convertToInteractive(key) {\n",
              "          const element = document.querySelector('#df-3ec5485a-4b3e-4b91-b690-54c1d0e23ab7');\n",
              "          const dataTable =\n",
              "            await google.colab.kernel.invokeFunction('convertToInteractive',\n",
              "                                                     [key], {});\n",
              "          if (!dataTable) return;\n",
              "\n",
              "          const docLinkHtml = 'Like what you see? Visit the ' +\n",
              "            '<a target=\"_blank\" href=https://colab.research.google.com/notebooks/data_table.ipynb>data table notebook</a>'\n",
              "            + ' to learn more about interactive tables.';\n",
              "          element.innerHTML = '';\n",
              "          dataTable['output_type'] = 'display_data';\n",
              "          await google.colab.output.renderOutput(dataTable, element);\n",
              "          const docLink = document.createElement('div');\n",
              "          docLink.innerHTML = docLinkHtml;\n",
              "          element.appendChild(docLink);\n",
              "        }\n",
              "      </script>\n",
              "    </div>\n",
              "  </div>\n",
              "  "
            ],
            "text/plain": [
              "                                 granule_id  ... granule_size\n",
              "1193  20190806T203500_tropomi_hires_la_0.nc  ...    458238869\n",
              "1194  20190806T221629_tropomi_hires_la_0.nc  ...    451625521\n",
              "1195  20190807T201554_tropomi_hires_la_0.nc  ...    456171857\n",
              "1196  20190807T215723_tropomi_hires_la_0.nc  ...    452744421\n",
              "1197  20190808T213817_tropomi_hires_la_0.nc  ...    453115772\n",
              "\n",
              "[5 rows x 11 columns]"
            ]
          },
          "metadata": {},
          "execution_count": 18
        }
      ]
    },
    {
      "cell_type": "markdown",
      "source": [
        "### Satellite data download "
      ],
      "metadata": {
        "id": "HOuwgRGOXjEa"
      }
    },
    {
      "cell_type": "code",
      "source": [
        "!pip install cloudpathlib[s3]\n"
      ],
      "metadata": {
        "id": "SyeVu2msaGSK",
        "colab": {
          "base_uri": "https://localhost:8080/"
        },
        "outputId": "d58feb60-e350-4be7-a050-796c39a595ee"
      },
      "execution_count": null,
      "outputs": [
        {
          "output_type": "stream",
          "name": "stdout",
          "text": [
            "Requirement already satisfied: cloudpathlib[s3] in /usr/local/lib/python3.7/dist-packages (0.7.0)\n",
            "Requirement already satisfied: importlib-metadata in /usr/local/lib/python3.7/dist-packages (from cloudpathlib[s3]) (4.11.2)\n",
            "Collecting boto3\n",
            "  Downloading boto3-1.21.13-py3-none-any.whl (132 kB)\n",
            "\u001b[K     |████████████████████████████████| 132 kB 9.0 MB/s \n",
            "\u001b[?25hCollecting jmespath<1.0.0,>=0.7.1\n",
            "  Downloading jmespath-0.10.0-py2.py3-none-any.whl (24 kB)\n",
            "Collecting botocore<1.25.0,>=1.24.13\n",
            "  Downloading botocore-1.24.13-py3-none-any.whl (8.6 MB)\n",
            "\u001b[K     |████████████████████████████████| 8.6 MB 62.5 MB/s \n",
            "\u001b[?25hCollecting s3transfer<0.6.0,>=0.5.0\n",
            "  Downloading s3transfer-0.5.2-py3-none-any.whl (79 kB)\n",
            "\u001b[K     |████████████████████████████████| 79 kB 6.9 MB/s \n",
            "\u001b[?25hRequirement already satisfied: python-dateutil<3.0.0,>=2.1 in /usr/local/lib/python3.7/dist-packages (from botocore<1.25.0,>=1.24.13->boto3->cloudpathlib[s3]) (2.8.2)\n",
            "Collecting urllib3<1.27,>=1.25.4\n",
            "  Downloading urllib3-1.26.8-py2.py3-none-any.whl (138 kB)\n",
            "\u001b[K     |████████████████████████████████| 138 kB 69.4 MB/s \n",
            "\u001b[?25hRequirement already satisfied: six>=1.5 in /usr/local/lib/python3.7/dist-packages (from python-dateutil<3.0.0,>=2.1->botocore<1.25.0,>=1.24.13->boto3->cloudpathlib[s3]) (1.15.0)\n",
            "Requirement already satisfied: zipp>=0.5 in /usr/local/lib/python3.7/dist-packages (from importlib-metadata->cloudpathlib[s3]) (3.7.0)\n",
            "Requirement already satisfied: typing-extensions>=3.6.4 in /usr/local/lib/python3.7/dist-packages (from importlib-metadata->cloudpathlib[s3]) (3.10.0.2)\n",
            "Installing collected packages: urllib3, jmespath, botocore, s3transfer, boto3\n",
            "  Attempting uninstall: urllib3\n",
            "    Found existing installation: urllib3 1.24.3\n",
            "    Uninstalling urllib3-1.24.3:\n",
            "      Successfully uninstalled urllib3-1.24.3\n",
            "\u001b[31mERROR: pip's dependency resolver does not currently take into account all the packages that are installed. This behaviour is the source of the following dependency conflicts.\n",
            "requests 2.23.0 requires urllib3!=1.25.0,!=1.25.1,<1.26,>=1.21.1, but you have urllib3 1.26.8 which is incompatible.\n",
            "datascience 0.10.6 requires folium==0.2.1, but you have folium 0.8.3 which is incompatible.\u001b[0m\n",
            "Successfully installed boto3-1.21.13 botocore-1.24.13 jmespath-0.10.0 s3transfer-0.5.2 urllib3-1.26.8\n"
          ]
        }
      ]
    },
    {
      "cell_type": "code",
      "source": [
        "from cloudpathlib import S3Path, S3Client\n",
        "s3_cli = S3Client(no_sign_request=True)"
      ],
      "metadata": {
        "colab": {
          "base_uri": "https://localhost:8080/"
        },
        "id": "Vk5RLTR8Ymwb",
        "outputId": "25b35221-052d-408e-9d89-e6ef043f497b"
      },
      "execution_count": null,
      "outputs": [
        {
          "output_type": "stream",
          "name": "stderr",
          "text": [
            "/usr/local/lib/python3.7/dist-packages/requests/__init__.py:91: RequestsDependencyWarning: urllib3 (1.26.8) or chardet (3.0.4) doesn't match a supported version!\n",
            "  RequestsDependencyWarning)\n"
          ]
        }
      ]
    },
    {
      "cell_type": "code",
      "source": [
        "# Download satellite data for tropomi\n",
        "tropomi_path = S3Path(\"s3://drivendata-competition-airathon-public-as/no2/train/tropomi/2019/\", client=s3_cli)\n",
        "tropomi_files = list(tropomi_path.rglob(\"*.nc\"))"
      ],
      "metadata": {
        "id": "h-WBfW2aNB3D"
      },
      "execution_count": null,
      "outputs": []
    },
    {
      "cell_type": "code",
      "source": [
        "fn = tropomi_files[0].fspath"
      ],
      "metadata": {
        "id": "SlZa_9vGasBt"
      },
      "execution_count": null,
      "outputs": []
    },
    {
      "cell_type": "code",
      "source": [
        "import netCDF4 as nc"
      ],
      "metadata": {
        "id": "jcaEx32mYfhO"
      },
      "execution_count": null,
      "outputs": []
    },
    {
      "cell_type": "code",
      "source": [
        "ds = nc.Dataset(fn)"
      ],
      "metadata": {
        "id": "nZJTPJr6ZVIk"
      },
      "execution_count": null,
      "outputs": []
    },
    {
      "cell_type": "code",
      "source": [
        "ds"
      ],
      "metadata": {
        "colab": {
          "base_uri": "https://localhost:8080/"
        },
        "id": "mFgE5Iltu4kh",
        "outputId": "c1bb5e22-f0cf-4d6e-9114-30e91818b1ca"
      },
      "execution_count": null,
      "outputs": [
        {
          "output_type": "execute_result",
          "data": {
            "text/plain": [
              "<class 'netCDF4._netCDF4.Dataset'>\n",
              "root group (NETCDF4 data model, file format HDF5):\n",
              "    Conventions: CF-1.7\n",
              "    institution: KNMI\n",
              "    source: Sentinel 5 precursor, TROPOMI, space-borne remote sensing, L2\n",
              "    summary: TROPOMI/S5P NO2 1-Orbit L2 Swath 7x3.5km\n",
              "    tracking_id: 26a7dcde-bd7b-4f7d-b469-01cef40b796a\n",
              "    id: S5P_OFFL_L2__NO2____20190101T031859_20190101T050029_06310_01_010202_20190107T050224\n",
              "    time_reference: 2019-01-01T00:00:00Z\n",
              "    time_reference_days_since_1950: 25202\n",
              "    time_reference_julian_day: 2458484.5\n",
              "    time_reference_seconds_since_1970: 1546300800\n",
              "    time_coverage_start: 2019-01-01T03:40:34Z\n",
              "    time_coverage_end: 2019-01-01T04:38:57Z\n",
              "    time_coverage_duration: PT3503.000S\n",
              "    time_coverage_resolution: PT1.080S\n",
              "    orbit: 6310\n",
              "    references: http://www.tropomi.eu/data-products/nitrogen-dioxide\n",
              "    processor_version: 1.2.2\n",
              "    keywords_vocabulary: AGU index terms, http://publications.agu.org/author-resource-center/index-terms/\n",
              "    keywords: 0345 Pollution, Urban and Regional; 0365 Troposphere, Composition and Chemistry; 0368 Troposphere, Constituent Transport and Chemistry; 3360 Remote Sensing; 3363 Stratospheric Dynamics\n",
              "    standard_name_vocabulary: NetCDF Climate and Forecast Metadata Conventions Standard Name Table (v29, 08 July 2015), http://cfconventions.org/standard-names.html\n",
              "    naming_authority: nl.knmi\n",
              "    cdm_data_type: Swath\n",
              "    date_created: 2019-01-07T05:02:29Z\n",
              "    creator_name: The Sentinel 5 Precursor TROPOMI Level 2 products are developed with funding from the European Space Agency (ESA), the Netherlands Space Office (NSO), the Belgian Science Policy Office, the German Aerospace Center (DLR) and the Bayerisches Staatsministerium für Wirtschaft und Medien, Energie und Technologie (StMWi).\n",
              "    creator_url: http://www.tropomi.eu\n",
              "    creator_email: EOSupport@Copernicus.esa.int\n",
              "    project: Sentinel 5 precursor/TROPOMI\n",
              "    geospatial_lat_min: -89.96032\n",
              "    geospatial_lat_max: 81.83386\n",
              "    geospatial_lon_min: 179.99995\n",
              "    geospatial_lon_max: -179.99985\n",
              "    license: No conditions apply\n",
              "    platform: S5P\n",
              "    sensor: TROPOMI\n",
              "    spatial_resolution: 7x3.5km2\n",
              "    cpp_compiler_version: g++ (GCC) 4.8.5 20150623 (Red Hat 4.8.5-11)\n",
              "    cpp_compiler_flags: -g -O2 -fPIC -std=c++11 -W -Wall -Wno-ignored-qualifiers -Wno-write-strings -Wno-unused-variable -DTROPNLL2DP\n",
              "    f90_compiler_version: GNU Fortran (GCC) 4.8.5 20150623 (Red Hat 4.8.5-11)\n",
              "    f90_compiler_flags: -gdwarf-3 -O2 -fPIC -cpp -ffpe-trap=invalid -fno-range-check -frecursive -fimplicit-none -ffree-line-length-none -DTROPNLL2DP -Wuninitialized -Wtabs\n",
              "    build_date: 2018-11-15T14:05:00Z\n",
              "    revision_control_identifier: 780c4fda8438\n",
              "    geolocation_grid_from_band: 4\n",
              "    identifier_product_doi: 10.5270/S5P-s4ljg54\n",
              "    identifier_product_doi_authority: http://dx.doi.org/\n",
              "    algorithm_version: 1.0.0\n",
              "    title: TROPOMI/S5P NO2 1-Orbit L2 Swath 7x3.5km\n",
              "    product_version: 1.0.0\n",
              "    Status_MET_2D: Nominal\n",
              "    Status_NISE__: Nominal\n",
              "    Status_CTMFCT: Nominal\n",
              "    history: 2019-01-07 05:11:35 f_s5pops tropnll2dp /mnt/data1/storage_offl_l2/cache_offl_l2/WORKING-565116750/JobOrder.565116707.xml; 2019-01-13 12:47:14 TM5-MP-DOMINO offline\n",
              "    processing_status: OFFL-processing nominal product\n",
              "    date_modified: 2019-01-13T12:47:14Z\n",
              "    dimensions(sizes): \n",
              "    variables(dimensions): \n",
              "    groups: PRODUCT, METADATA"
            ]
          },
          "metadata": {},
          "execution_count": 19
        }
      ]
    },
    {
      "cell_type": "code",
      "source": [
        "ds.groups"
      ],
      "metadata": {
        "id": "2KXzo7_DZ6wL",
        "colab": {
          "base_uri": "https://localhost:8080/"
        },
        "outputId": "71c14da5-c508-47ae-f377-35b3bb7b9ba8"
      },
      "execution_count": null,
      "outputs": [
        {
          "output_type": "execute_result",
          "data": {
            "text/plain": [
              "{'METADATA': <class 'netCDF4._netCDF4.Group'>\n",
              " group /METADATA:\n",
              "     dimensions(sizes): \n",
              "     variables(dimensions): \n",
              "     groups: QA_STATISTICS, ALGORITHM_SETTINGS, GRANULE_DESCRIPTION, ISO_METADATA, EOP_METADATA, ESA_METADATA,\n",
              " 'PRODUCT': <class 'netCDF4._netCDF4.Group'>\n",
              " group /PRODUCT:\n",
              "     dimensions(sizes): scanline(3245), ground_pixel(450), corner(4), time(1), polynomial_exponents(6), intensity_offset_polynomial_exponents(1), layer(34), vertices(2)\n",
              "     variables(dimensions): int32 scanline(scanline), int32 ground_pixel(ground_pixel), int32 time(time), int32 corner(corner), int32 polynomial_exponents(polynomial_exponents), int32 intensity_offset_polynomial_exponents(intensity_offset_polynomial_exponents), int32 layer(layer), int32 vertices(vertices), float32 latitude(time, scanline, ground_pixel), float32 longitude(time, scanline, ground_pixel), int32 delta_time(time, scanline), <class 'str'> time_utc(time, scanline), uint8 qa_value(time, scanline, ground_pixel), float32 nitrogendioxide_tropospheric_column(time, scanline, ground_pixel), float32 nitrogendioxide_tropospheric_column_precision(time, scanline, ground_pixel), float32 nitrogendioxide_tropospheric_column_precision_kernel(time, scanline, ground_pixel), float32 averaging_kernel(time, scanline, ground_pixel, layer), float32 air_mass_factor_troposphere(time, scanline, ground_pixel), float32 air_mass_factor_total(time, scanline, ground_pixel), int32 tm5_tropopause_layer_index(time, scanline, ground_pixel), float32 tm5_constant_a(layer, vertices), float32 tm5_constant_b(layer, vertices)\n",
              "     groups: SUPPORT_DATA}"
            ]
          },
          "metadata": {},
          "execution_count": 11
        }
      ]
    },
    {
      "cell_type": "code",
      "source": [
        "print(ds.groups['PRODUCT'])"
      ],
      "metadata": {
        "id": "qfITTYOw16Na",
        "colab": {
          "base_uri": "https://localhost:8080/"
        },
        "outputId": "1c1846bd-ba3b-4867-f53a-ade284cd546a"
      },
      "execution_count": null,
      "outputs": [
        {
          "output_type": "stream",
          "name": "stdout",
          "text": [
            "<class 'netCDF4._netCDF4.Group'>\n",
            "group /PRODUCT:\n",
            "    dimensions(sizes): scanline(3245), ground_pixel(450), corner(4), time(1), polynomial_exponents(6), intensity_offset_polynomial_exponents(1), layer(34), vertices(2)\n",
            "    variables(dimensions): int32 scanline(scanline), int32 ground_pixel(ground_pixel), int32 time(time), int32 corner(corner), int32 polynomial_exponents(polynomial_exponents), int32 intensity_offset_polynomial_exponents(intensity_offset_polynomial_exponents), int32 layer(layer), int32 vertices(vertices), float32 latitude(time, scanline, ground_pixel), float32 longitude(time, scanline, ground_pixel), int32 delta_time(time, scanline), <class 'str'> time_utc(time, scanline), uint8 qa_value(time, scanline, ground_pixel), float32 nitrogendioxide_tropospheric_column(time, scanline, ground_pixel), float32 nitrogendioxide_tropospheric_column_precision(time, scanline, ground_pixel), float32 nitrogendioxide_tropospheric_column_precision_kernel(time, scanline, ground_pixel), float32 averaging_kernel(time, scanline, ground_pixel, layer), float32 air_mass_factor_troposphere(time, scanline, ground_pixel), float32 air_mass_factor_total(time, scanline, ground_pixel), int32 tm5_tropopause_layer_index(time, scanline, ground_pixel), float32 tm5_constant_a(layer, vertices), float32 tm5_constant_b(layer, vertices)\n",
            "    groups: SUPPORT_DATA\n"
          ]
        }
      ]
    },
    {
      "cell_type": "code",
      "source": [
        "print (ds.groups['PRODUCT'].variables.keys())"
      ],
      "metadata": {
        "colab": {
          "base_uri": "https://localhost:8080/"
        },
        "id": "s1FVanF4wOM7",
        "outputId": "bcc5b4ca-6cc7-48c7-c0ec-2557cbc7f607"
      },
      "execution_count": null,
      "outputs": [
        {
          "output_type": "stream",
          "name": "stdout",
          "text": [
            "dict_keys(['scanline', 'ground_pixel', 'time', 'corner', 'polynomial_exponents', 'intensity_offset_polynomial_exponents', 'layer', 'vertices', 'latitude', 'longitude', 'delta_time', 'time_utc', 'qa_value', 'nitrogendioxide_tropospheric_column', 'nitrogendioxide_tropospheric_column_precision', 'nitrogendioxide_tropospheric_column_precision_kernel', 'averaging_kernel', 'air_mass_factor_troposphere', 'air_mass_factor_total', 'tm5_tropopause_layer_index', 'tm5_constant_a', 'tm5_constant_b'])\n"
          ]
        }
      ]
    },
    {
      "cell_type": "code",
      "source": [
        "ds.groups['PRODUCT'].variables['nitrogendioxide_tropospheric_column_precision']"
      ],
      "metadata": {
        "colab": {
          "base_uri": "https://localhost:8080/"
        },
        "id": "Y4F0bQ33wicq",
        "outputId": "ce195615-7090-4b4e-8db1-f41559a13704"
      },
      "execution_count": null,
      "outputs": [
        {
          "output_type": "execute_result",
          "data": {
            "text/plain": [
              "<class 'netCDF4._netCDF4.Variable'>\n",
              "float32 nitrogendioxide_tropospheric_column_precision(time, scanline, ground_pixel)\n",
              "    units: mol m-2\n",
              "    standard_name: troposphere_mole_content_of_nitrogen_dioxide standard_error\n",
              "    long_name: Precision of the tropospheric vertical column of nitrogen dioxide\n",
              "    coordinates: longitude latitude\n",
              "    multiplication_factor_to_convert_to_molecules_percm2: 6.022141e+19\n",
              "    _FillValue: 9.96921e+36\n",
              "path = /PRODUCT\n",
              "unlimited dimensions: \n",
              "current shape = (1, 3245, 450)\n",
              "filling on"
            ]
          },
          "metadata": {},
          "execution_count": 14
        }
      ]
    },
    {
      "cell_type": "code",
      "source": [
        "ds.groups['PRODUCT'].variables['longitude'][:][0,:,:][:]"
      ],
      "metadata": {
        "colab": {
          "base_uri": "https://localhost:8080/"
        },
        "id": "pyigikbJw4k5",
        "outputId": "297b379d-cb45-427a-b0f8-6e79998d7163"
      },
      "execution_count": null,
      "outputs": [
        {
          "output_type": "execute_result",
          "data": {
            "text/plain": [
              "masked_array(\n",
              "  data=[[-23.17912 , -23.329996, -23.478865, ..., -61.985943, -62.083332,\n",
              "         -62.18185 ],\n",
              "        [-23.177786, -23.328894, -23.47799 , ..., -62.035797, -62.13324 ,\n",
              "         -62.231804],\n",
              "        [-23.176464, -23.327803, -23.477125, ..., -62.08585 , -62.183342,\n",
              "         -62.281956],\n",
              "        ...,\n",
              "        [ 66.476326,  66.53377 ,  66.59082 , ..., 153.98888 , 154.43105 ,\n",
              "         154.87555 ],\n",
              "        [ 66.323326,  66.38029 ,  66.43686 , ..., 154.11232 , 154.55661 ,\n",
              "         155.00322 ],\n",
              "        [ 66.16991 ,  66.22638 ,  66.28247 , ..., 154.23701 , 154.68346 ,\n",
              "         155.13217 ]],\n",
              "  mask=False,\n",
              "  fill_value=1e+20,\n",
              "  dtype=float32)"
            ]
          },
          "metadata": {},
          "execution_count": 15
        }
      ]
    },
    {
      "cell_type": "code",
      "source": [
        "no2 = ds.groups['PRODUCT'].variables['nitrogendioxide_tropospheric_column_precision'][0,:,:]"
      ],
      "metadata": {
        "id": "69k_dFUuxApC"
      },
      "execution_count": null,
      "outputs": []
    },
    {
      "cell_type": "code",
      "source": [
        "no2"
      ],
      "metadata": {
        "colab": {
          "base_uri": "https://localhost:8080/"
        },
        "id": "3vU9upyqxtrF",
        "outputId": "f06e04e9-bcfe-4bff-f68a-5fdecc4212d6"
      },
      "execution_count": null,
      "outputs": [
        {
          "output_type": "execute_result",
          "data": {
            "text/plain": [
              "masked_array(\n",
              "  data=[[--, --, --, ..., --, --, --],\n",
              "        [--, --, --, ..., --, --, --],\n",
              "        [--, --, --, ..., --, --, --],\n",
              "        ...,\n",
              "        [--, --, --, ..., --, --, --],\n",
              "        [--, --, --, ..., --, --, --],\n",
              "        [--, --, --, ..., --, --, --]],\n",
              "  mask=[[ True,  True,  True, ...,  True,  True,  True],\n",
              "        [ True,  True,  True, ...,  True,  True,  True],\n",
              "        [ True,  True,  True, ...,  True,  True,  True],\n",
              "        ...,\n",
              "        [ True,  True,  True, ...,  True,  True,  True],\n",
              "        [ True,  True,  True, ...,  True,  True,  True],\n",
              "        [ True,  True,  True, ...,  True,  True,  True]],\n",
              "  fill_value=9.96921e+36,\n",
              "  dtype=float32)"
            ]
          },
          "metadata": {},
          "execution_count": 17
        }
      ]
    },
    {
      "cell_type": "code",
      "source": [
        "omi_mdf['as_url'].iloc[0]"
      ],
      "metadata": {
        "colab": {
          "base_uri": "https://localhost:8080/",
          "height": 164
        },
        "id": "hrY6CRbSbQ18",
        "outputId": "e968d1bc-b1b7-40a2-e73f-57ef61d2920f"
      },
      "execution_count": null,
      "outputs": [
        {
          "output_type": "error",
          "ename": "NameError",
          "evalue": "ignored",
          "traceback": [
            "\u001b[0;31m---------------------------------------------------------------------------\u001b[0m",
            "\u001b[0;31mNameError\u001b[0m                                 Traceback (most recent call last)",
            "\u001b[0;32m<ipython-input-18-3c2db455bfc1>\u001b[0m in \u001b[0;36m<module>\u001b[0;34m()\u001b[0m\n\u001b[0;32m----> 1\u001b[0;31m \u001b[0momi_mdf\u001b[0m\u001b[0;34m[\u001b[0m\u001b[0;34m'as_url'\u001b[0m\u001b[0;34m]\u001b[0m\u001b[0;34m.\u001b[0m\u001b[0miloc\u001b[0m\u001b[0;34m[\u001b[0m\u001b[0;36m0\u001b[0m\u001b[0;34m]\u001b[0m\u001b[0;34m\u001b[0m\u001b[0;34m\u001b[0m\u001b[0m\n\u001b[0m",
            "\u001b[0;31mNameError\u001b[0m: name 'omi_mdf' is not defined"
          ]
        }
      ]
    },
    {
      "cell_type": "code",
      "source": [
        "omi_path = S3Path(\"s3://drivendata-competition-airathon-public-as/no2/train/omi/2019/\", client=s3_cli)\n",
        "omi_files = list(omi_path.rglob(\"*.he5\"))"
      ],
      "metadata": {
        "id": "93o5AJduygRW"
      },
      "execution_count": null,
      "outputs": []
    },
    {
      "cell_type": "code",
      "source": [
        "omi_files[0]"
      ],
      "metadata": {
        "id": "ePgkYxuYy2Z4"
      },
      "execution_count": null,
      "outputs": []
    },
    {
      "cell_type": "code",
      "source": [
        "omi_fn = omi_files[0].fspath"
      ],
      "metadata": {
        "id": "nwM5Ixxty8tU"
      },
      "execution_count": null,
      "outputs": []
    },
    {
      "cell_type": "code",
      "source": [
        "omi_fn"
      ],
      "metadata": {
        "id": "_FnibI5IzE6b"
      },
      "execution_count": null,
      "outputs": []
    },
    {
      "cell_type": "code",
      "source": [
        "! pip install rioxarray"
      ],
      "metadata": {
        "id": "SIofuzHv1NN9"
      },
      "execution_count": null,
      "outputs": []
    },
    {
      "cell_type": "code",
      "source": [
        "import h5py\n",
        "import xarray as xr\n",
        "import rioxarray as rxr"
      ],
      "metadata": {
        "id": "o-ffN2Zbz1fP"
      },
      "execution_count": null,
      "outputs": []
    },
    {
      "cell_type": "code",
      "source": [
        "omi_pre = rxr.open_rasterio(omi_fn, masked=True)"
      ],
      "metadata": {
        "id": "hNSoEILBz7UY"
      },
      "execution_count": null,
      "outputs": []
    },
    {
      "cell_type": "code",
      "source": [
        "omi_pre"
      ],
      "metadata": {
        "id": "ziccj7JnzF2r"
      },
      "execution_count": null,
      "outputs": []
    },
    {
      "cell_type": "code",
      "source": [
        "omi_pre_qa = omi_pre[0]\n",
        "omi_pre_qa"
      ],
      "metadata": {
        "id": "xTs57wwa1m44"
      },
      "execution_count": null,
      "outputs": []
    },
    {
      "cell_type": "code",
      "source": [
        "type(omi_pre)"
      ],
      "metadata": {
        "id": "VUahrkif419O"
      },
      "execution_count": null,
      "outputs": []
    },
    {
      "cell_type": "code",
      "source": [
        ""
      ],
      "metadata": {
        "id": "r-cY2lcd47xv"
      },
      "execution_count": null,
      "outputs": []
    }
  ]
}